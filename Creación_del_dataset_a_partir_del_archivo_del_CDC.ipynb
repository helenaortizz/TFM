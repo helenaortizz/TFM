{
  "nbformat": 4,
  "nbformat_minor": 0,
  "metadata": {
    "colab": {
      "provenance": []
    },
    "kernelspec": {
      "name": "python3",
      "display_name": "Python 3"
    },
    "language_info": {
      "name": "python"
    }
  },
  "cells": [
    {
      "cell_type": "code",
      "execution_count": 1,
      "metadata": {
        "id": "mopSVraRe1vh"
      },
      "outputs": [],
      "source": [
        "import pandas as pd\n",
        "\n",
        "# Carga del archivo de datos original\n",
        "file_path = \"/content/drive/MyDrive/Nat2023PublicUS.c20240509.r20240724.txt\"\n",
        "\n",
        "# Posiciones de las columnas en el dataset\n",
        "columns_specs = [\n",
        "    (78, 79),  # MAGER9 - Edad de la madre (recode 9)\n",
        "    (106, 107),  # MRACE6 - Raza de la madre (recode 6)\n",
        "    (123, 124),  # MEDUC - Educación de la madre\n",
        "    (181, 182),  # TBO_REC - Orden total de nacimientos\n",
        "    (208, 210),  # ILOP_R11 - Intervalo desde el último embarazo\n",
        "    (226, 227),  # PRECARE5 - Inicio del cuidado prenatal\n",
        "    (260, 261),  # CIG0_R - Consumo de cigarrillos antes del embarazo\n",
        "    (286, 287),  # BMI_R - Índice de Masa Corporal (recode)\n",
        "    (313, 314),  # RF_GDIAB - Diabetes gestacional\n",
        "    (315, 316),  # RF_GHYPE - Hipertensión gestacional\n",
        "    (317, 318),  # RF_PPTERM - Parto prematuro previo\n",
        "    (330, 331),  # RF_CESAR - Cesárea previa\n",
        "    (336, 337),  # NO_RISKS - Sin factores de riesgo\n",
        "    (352, 353),  # NO_INFEC - Sin infecciones reportadas\n",
        "    (386, 387),  # LD_CHOR - Corioamnionitis\n",
        "    (400, 401),  # ME_PRES - Presentación fetal en el parto\n",
        "    (453, 454),  # DPLURAL - Pluralidad (gemelos, trillizos, etc.)\n",
        "    (493, 494)   # GESTREC3 - Duración de la gestación (recode 3)\n",
        "    ]\n",
        "\n",
        "column_names = [\n",
        "    \"Mother_Age\",\n",
        "    \"Mother_Race\",\n",
        "    \"Mother_Education\",\n",
        "    \"Total_Birth_Order\",\n",
        "    \"Interval_Last_Pregnancy\",\n",
        "    \"Prenatal_Care_Start\",\n",
        "    \"Smoking_Before_Pregnancy\",\n",
        "    \"BMI\",\n",
        "    \"Gestational_Diabetes\",\n",
        "    \"Gestational_Hypertension\",\n",
        "    \"Previous_Preterm_Birth\",\n",
        "    \"Previous_Cesarean\",\n",
        "    \"No_Risk_Factors\",\n",
        "    \"No_Infections\",\n",
        "    \"Chorioamnionitis\",\n",
        "    \"Fetal_Presentation\",\n",
        "    \"Plurality\",\n",
        "    \"Gestation_Weeks\"\n",
        "    ]"
      ]
    },
    {
      "cell_type": "code",
      "source": [
        "# Lectura del archivo .txt con las posiciones definidas\n",
        "df = pd.read_fwf(file_path,\n",
        "                 colspecs=columns_specs,\n",
        "                 header=None, names=column_names,\n",
        "                 dtype=str\n",
        "                 )\n",
        "\n",
        "# Guardado del nuevo dataset en un archivo .CSV\n",
        "output_file = \"/content/parto_pretermino_dataset.csv\"\n",
        "df.to_csv(output_file, index=False)"
      ],
      "metadata": {
        "collapsed": true,
        "id": "xrpE7b3hg-M_"
      },
      "execution_count": 2,
      "outputs": []
    }
  ]
}